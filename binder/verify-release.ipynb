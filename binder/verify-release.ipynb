{
 "cells": [
  {
   "cell_type": "markdown",
   "id": "f11b7444-8a11-47bd-8d1c-dcb5bbeada89",
   "metadata": {},
   "source": [
    "# Verify release\n",
    "\n",
    "This notebook is to help committers automatically verify a Sedona release and cast their votes.\n",
    "\n",
    "## To run all cells: in the top menu, click \"Run\" -> \"Run All Cells\". Then just wait. The entire notebook will take about 5 minutes to run."
   ]
  },
  {
   "cell_type": "code",
   "execution_count": 9,
   "id": "f7434547-59c2-4819-8806-af15ac14525c",
   "metadata": {},
   "outputs": [],
   "source": [
    "import os\n",
    "\n",
    "PATH=\"../\"\n",
    "SEDONA_CURRENT_VERSION=\"1.4.1\""
   ]
  },
  {
   "cell_type": "markdown",
   "id": "832f651e-f949-4898-9803-c1a371cb6e8d",
   "metadata": {},
   "source": [
    "## Import the public keys of existing release managers\n",
    "You should see a >0 number in the \"Total number processed: \" below."
   ]
  },
  {
   "cell_type": "code",
   "execution_count": 10,
   "id": "7db7bded-08e9-4513-8ada-675c30a3f8cb",
   "metadata": {},
   "outputs": [
    {
     "name": "stderr",
     "output_type": "stream",
     "text": [
      "gpg: key 3A79A47AC26FF4CD: \"Jia Yu <jiayu@apache.org>\" not changed\n",
      "gpg: key 6C883CA80E7FD299: \"PawelKocinski <imbruced@apache.org>\" not changed\n",
      "gpg: key 8B504ED095522E76: \"Kanchan Chowdhury <kanchanchy@apache.org>\" not changed\n",
      "gpg: key CD1626B04F876FB0: \"Mo Sarwat <mosarwat@apache.org>\" not changed\n",
      "gpg: Total number processed: 4\n",
      "gpg:              unchanged: 4\n"
     ]
    },
    {
     "data": {
      "text/plain": [
       "0"
      ]
     },
     "execution_count": 10,
     "metadata": {},
     "output_type": "execute_result"
    }
   ],
   "source": [
    "os.system(\"gpg --import \" + PATH + \"KEYS\")"
   ]
  },
  {
   "cell_type": "markdown",
   "id": "91222458-95c0-45b5-8649-5ff10b19103e",
   "metadata": {},
   "source": [
    "## 1. Verify the signature\n",
    "You should see two \"Good signature from\" below."
   ]
  },
  {
   "cell_type": "code",
   "execution_count": 11,
   "id": "b702deb3-4f85-471b-9fbb-2a2966684531",
   "metadata": {},
   "outputs": [
    {
     "name": "stderr",
     "output_type": "stream",
     "text": [
      "gpg: assuming signed data in '../apache-sedona-1.3.1-incubating-src.tar.gz'\n",
      "gpg: Signature made Mon 12 Dec 2022 09:25:46 AM UTC\n",
      "gpg:                using RSA key 9918351F1EE867E42017EA833A79A47AC26FF4CD\n",
      "gpg: Good signature from \"Jia Yu <jiayu@apache.org>\" [unknown]\n",
      "gpg: WARNING: This key is not certified with a trusted signature!\n",
      "gpg:          There is no indication that the signature belongs to the owner.\n",
      "Primary key fingerprint: 9918 351F 1EE8 67E4 2017  EA83 3A79 A47A C26F F4CD\n",
      "gpg: assuming signed data in '../apache-sedona-1.3.1-incubating-bin.tar.gz'\n",
      "gpg: Signature made Mon 12 Dec 2022 09:19:15 AM UTC\n",
      "gpg:                using RSA key 9918351F1EE867E42017EA833A79A47AC26FF4CD\n",
      "gpg: Good signature from \"Jia Yu <jiayu@apache.org>\" [unknown]\n",
      "gpg: WARNING: This key is not certified with a trusted signature!\n",
      "gpg:          There is no indication that the signature belongs to the owner.\n",
      "Primary key fingerprint: 9918 351F 1EE8 67E4 2017  EA83 3A79 A47A C26F F4CD\n"
     ]
    },
    {
     "data": {
      "text/plain": [
       "0"
      ]
     },
     "execution_count": 11,
     "metadata": {},
     "output_type": "execute_result"
    }
   ],
   "source": [
    "os.system(\"gpg --verify \" + PATH + \"apache-sedona-\" + SEDONA_CURRENT_VERSION +\"-src.tar.gz.asc\")\n",
    "os.system(\"gpg --verify \" + PATH + \"apache-sedona-\" + SEDONA_CURRENT_VERSION +\"-bin.tar.gz.asc\")"
   ]
  },
  {
   "cell_type": "markdown",
   "id": "3d8ccc5a-7fd7-46fe-bb45-7bb94ad57edb",
   "metadata": {},
   "source": [
    "## 2.1 Verify the checksum of source code\n",
    "You should see two identical hex codes in the two lines below."
   ]
  },
  {
   "cell_type": "code",
   "execution_count": 12,
   "id": "cd1aecf2-0525-4c4d-8e91-ed7bb95217a0",
   "metadata": {},
   "outputs": [
    {
     "name": "stdout",
     "output_type": "stream",
     "text": [
      "6402f5f71f7b5e79e73034ac79590f9fcb4398d0ae7aa2eb547e4a5b0cec835b0c1afc317b0d24e3bcf31ae481e1bfaa46e24097b33801e92f0ccdeaff31695b  ../apache-sedona-1.3.1-incubating-src.tar.gz\n",
      "6402f5f71f7b5e79e73034ac79590f9fcb4398d0ae7aa2eb547e4a5b0cec835b0c1afc317b0d24e3bcf31ae481e1bfaa46e24097b33801e92f0ccdeaff31695b  apache-sedona-1.3.1-incubating-src.tar.gz\n"
     ]
    },
    {
     "data": {
      "text/plain": [
       "0"
      ]
     },
     "execution_count": 12,
     "metadata": {},
     "output_type": "execute_result"
    }
   ],
   "source": [
    "os.system(\"shasum -a 512 \" + PATH +\"apache-sedona-\" + SEDONA_CURRENT_VERSION + \"-src.tar.gz\")\n",
    "os.system(\"cat \" + PATH + \"apache-sedona-\" + SEDONA_CURRENT_VERSION + \"-src.tar.gz.sha512\")"
   ]
  },
  {
   "cell_type": "markdown",
   "id": "68e1ce11-7354-4585-9581-f93cb7994e2a",
   "metadata": {},
   "source": [
    "## 2.2 Verify the checksum of binary code\n",
    "You should see two identical hex codes in the two lines below."
   ]
  },
  {
   "cell_type": "code",
   "execution_count": 13,
   "id": "3fe71ac1-64e4-4b8b-8d38-1cb251737364",
   "metadata": {},
   "outputs": [
    {
     "name": "stdout",
     "output_type": "stream",
     "text": [
      "70f32d796e3e74160f1edd4f82803be0830841e49292b1562b2d79ff193dc27e56cca37548525c447b16118486a691902f42a3ed972c745f7a525e16b8089c3b  ../apache-sedona-1.3.1-incubating-bin.tar.gz\n",
      "70f32d796e3e74160f1edd4f82803be0830841e49292b1562b2d79ff193dc27e56cca37548525c447b16118486a691902f42a3ed972c745f7a525e16b8089c3b  apache-sedona-1.3.1-incubating-bin.tar.gz\n"
     ]
    },
    {
     "data": {
      "text/plain": [
       "0"
      ]
     },
     "execution_count": 13,
     "metadata": {},
     "output_type": "execute_result"
    }
   ],
   "source": [
    "os.system(\"shasum -a 512 \" + PATH +\"apache-sedona-\" + SEDONA_CURRENT_VERSION + \"-bin.tar.gz\")\n",
    "os.system(\"cat \" + PATH + \"apache-sedona-\" + SEDONA_CURRENT_VERSION + \"-bin.tar.gz.sha512\")"
   ]
  },
  {
   "cell_type": "markdown",
   "id": "d700fc8b-5b4a-4eac-b576-70129ca2ec9b",
   "metadata": {},
   "source": [
    "## 3.1 Check if the NOTICE is in place\n",
    "You should see the content of the NOTICE file"
   ]
  },
  {
   "cell_type": "code",
   "execution_count": 15,
   "id": "ac18af8e-a56c-433d-aec0-768492202f4d",
   "metadata": {},
   "outputs": [
    {
     "name": "stdout",
     "output_type": "stream",
     "text": [
      "Apache Sedona (incubating)\n",
      "Copyright 2020-2022 The Apache Software Foundation\n",
      "\n",
      "This product includes software developed at\n",
      "The Apache Software Foundation (http://www.apache.org/).\n",
      "\n",
      "\n",
      "\n",
      "GeoSpark development team\n",
      "Copyright 2015-2020\n",
      "\n",
      "This product was derived from the GeoSpark project."
     ]
    },
    {
     "data": {
      "text/plain": [
       "0"
      ]
     },
     "execution_count": 15,
     "metadata": {},
     "output_type": "execute_result"
    }
   ],
   "source": [
    "os.system(\"cat \" + PATH + \"apache-sedona-\" + SEDONA_CURRENT_VERSION + \"-src/NOTICE\")"
   ]
  },
  {
   "cell_type": "markdown",
   "id": "461a4567-3d31-4256-97e9-06f9d0b542d5",
   "metadata": {},
   "source": [
    "## 4. Compile the source code\n",
    "You should see \"BUILD SUCCESS\" after running the last command. This will take about 5 minutes to finish and print lots of output. Please scroll down to the bottom of this notebook.\n",
    "\n",
    "# Cast your vote in the voting email\n",
    "If you have seen all required content, you can cast your `+1` vote as follows:\n",
    "\n",
    "```\n",
    "+1\n",
    "\n",
    "I checked:\n",
    "* Download links are valid\n",
    "* Checksums and PGP signatures are valid\n",
    "* NOTICE is included\n",
    "* Source code artifacts have correct names matching the current release\n",
    "* The project can compile from the source code\n",
    "```"
   ]
  },
  {
   "cell_type": "code",
   "execution_count": null,
   "id": "cac667df-c390-4405-96e7-804c41e9a80e",
   "metadata": {},
   "outputs": [
    {
     "name": "stdout",
     "output_type": "stream",
     "text": [
      "[\u001b[1;34mINFO\u001b[m] Scanning for projects...\n",
      "[\u001b[1;33mWARNING\u001b[m] \n",
      "[\u001b[1;33mWARNING\u001b[m] Some problems were encountered while building the effective model for org.apache.sedona:sedona-core-3.0_2.12:jar:1.3.1-incubating\n",
      "[\u001b[1;33mWARNING\u001b[m] 'artifactId' contains an expression but should be a constant. @ org.apache.sedona:sedona-core-${spark.compat.version}_${scala.compat.version}:[unknown-version], /home/jovyan/apache-sedona-1.3.1-incubating-src/core/pom.xml, line 28, column 17\n",
      "[\u001b[1;33mWARNING\u001b[m] \n",
      "[\u001b[1;33mWARNING\u001b[m] Some problems were encountered while building the effective model for org.apache.sedona:sedona-sql-3.0_2.12:jar:1.3.1-incubating\n",
      "[\u001b[1;33mWARNING\u001b[m] 'artifactId' contains an expression but should be a constant. @ org.apache.sedona:sedona-sql-${spark.compat.version}_${scala.compat.version}:[unknown-version], /home/jovyan/apache-sedona-1.3.1-incubating-src/sql/pom.xml, line 28, column 14\n",
      "[\u001b[1;33mWARNING\u001b[m] \n",
      "[\u001b[1;33mWARNING\u001b[m] Some problems were encountered while building the effective model for org.apache.sedona:sedona-viz-3.0_2.12:jar:1.3.1-incubating\n",
      "[\u001b[1;33mWARNING\u001b[m] 'artifactId' contains an expression but should be a constant. @ org.apache.sedona:sedona-viz-${spark.compat.version}_${scala.compat.version}:[unknown-version], /home/jovyan/apache-sedona-1.3.1-incubating-src/viz/pom.xml, line 28, column 14\n",
      "[\u001b[1;33mWARNING\u001b[m] \n",
      "[\u001b[1;33mWARNING\u001b[m] Some problems were encountered while building the effective model for org.apache.sedona:sedona-python-adapter-3.0_2.12:jar:1.3.1-incubating\n",
      "[\u001b[1;33mWARNING\u001b[m] 'artifactId' contains an expression but should be a constant. @ org.apache.sedona:sedona-python-adapter-${spark.compat.version}_${scala.compat.version}:[unknown-version], /home/jovyan/apache-sedona-1.3.1-incubating-src/python-adapter/pom.xml, line 27, column 17\n",
      "[\u001b[1;33mWARNING\u001b[m] \n",
      "[\u001b[1;33mWARNING\u001b[m] Some problems were encountered while building the effective model for org.apache.sedona:sedona-flink_2.12:jar:1.3.1-incubating\n",
      "[\u001b[1;33mWARNING\u001b[m] 'artifactId' contains an expression but should be a constant. @ org.apache.sedona:sedona-flink_${scala.compat.version}:[unknown-version], /home/jovyan/apache-sedona-1.3.1-incubating-src/flink/pom.xml, line 28, column 14\n",
      "[\u001b[1;33mWARNING\u001b[m] \n",
      "[\u001b[1;33mWARNING\u001b[m] It is highly recommended to fix these problems because they threaten the stability of your build.\n",
      "[\u001b[1;33mWARNING\u001b[m] \n",
      "[\u001b[1;33mWARNING\u001b[m] For this reason, future Maven versions might no longer support building such malformed projects.\n",
      "[\u001b[1;33mWARNING\u001b[m] \n",
      "[\u001b[1;34mINFO\u001b[m] \u001b[1m------------------------------------------------------------------------\u001b[m\n",
      "[\u001b[1;34mINFO\u001b[m] \u001b[1mReactor Build Order:\u001b[m\n",
      "[\u001b[1;34mINFO\u001b[m] \n",
      "[\u001b[1;34mINFO\u001b[m] sedona-parent                                                      [pom]\n",
      "[\u001b[1;34mINFO\u001b[m] org.apache.sedona:sedona-common                                    [jar]\n",
      "[\u001b[1;34mINFO\u001b[m] org.apache.sedona:sedona-core-3.0_2.12                             [jar]\n",
      "[\u001b[1;34mINFO\u001b[m] org.apache.sedona:sedona-sql-3.0_2.12                              [jar]\n",
      "[\u001b[1;34mINFO\u001b[m] org.apache.sedona:sedona-viz-3.0_2.12                              [jar]\n",
      "[\u001b[1;34mINFO\u001b[m] org.apache.sedona:sedona-python-adapter-3.0_2.12                   [jar]\n",
      "[\u001b[1;34mINFO\u001b[m] org.apache.sedona:sedona-flink_2.12                                [jar]\n",
      "[\u001b[1;34mINFO\u001b[m] \n",
      "[\u001b[1;34mINFO\u001b[m] \u001b[1m------------------< \u001b[0;36morg.apache.sedona:sedona-parent\u001b[0;1m >-------------------\u001b[m\n",
      "[\u001b[1;34mINFO\u001b[m] \u001b[1mBuilding sedona-parent 1.3.1-incubating                            [1/7]\u001b[m\n",
      "[\u001b[1;34mINFO\u001b[m] \u001b[1m--------------------------------[ pom ]---------------------------------\u001b[m\n",
      "[\u001b[1;34mINFO\u001b[m] \n",
      "[\u001b[1;34mINFO\u001b[m] \u001b[1m--- \u001b[0;32mmaven-clean-plugin:3.1.0:clean\u001b[m \u001b[1m(default-clean)\u001b[m @ \u001b[36msedona-parent\u001b[0;1m ---\u001b[m\n",
      "[\u001b[1;34mINFO\u001b[m] Deleting /home/jovyan/apache-sedona-1.3.1-incubating-src/target\n",
      "[\u001b[1;34mINFO\u001b[m] \n",
      "[\u001b[1;34mINFO\u001b[m] \u001b[1m--- \u001b[0;32mmaven-enforcer-plugin:1.4.1:enforce\u001b[m \u001b[1m(enforce-maven-version)\u001b[m @ \u001b[36msedona-parent\u001b[0;1m ---\u001b[m\n",
      "[\u001b[1;34mINFO\u001b[m] \n",
      "[\u001b[1;34mINFO\u001b[m] \u001b[1m--- \u001b[0;32mmaven-remote-resources-plugin:1.7.0:process\u001b[m \u001b[1m(process-resource-bundles)\u001b[m @ \u001b[36msedona-parent\u001b[0;1m ---\u001b[m\n",
      "[\u001b[1;34mINFO\u001b[m] Preparing remote bundle org.apache:apache-jar-resource-bundle:1.4\n",
      "[\u001b[1;34mINFO\u001b[m] Copying 3 resources from 1 bundle.\n",
      "[\u001b[1;34mINFO\u001b[m] \n",
      "[\u001b[1;34mINFO\u001b[m] \u001b[1m--- \u001b[0;32mscala-maven-plugin:3.2.1:add-source\u001b[m \u001b[1m(scala-compile-first)\u001b[m @ \u001b[36msedona-parent\u001b[0;1m ---\u001b[m\n",
      "[\u001b[1;34mINFO\u001b[m] Add Source directory: /home/jovyan/apache-sedona-1.3.1-incubating-src/src/main/scala\n",
      "[\u001b[1;34mINFO\u001b[m] Add Test Source directory: /home/jovyan/apache-sedona-1.3.1-incubating-src/src/test/scala\n",
      "[\u001b[1;34mINFO\u001b[m] \n",
      "[\u001b[1;34mINFO\u001b[m] \u001b[1m--- \u001b[0;32mscala-maven-plugin:3.2.1:compile\u001b[m \u001b[1m(scala-compile-first)\u001b[m @ \u001b[36msedona-parent\u001b[0;1m ---\u001b[m\n",
      "[\u001b[1;34mINFO\u001b[m] No sources to compile\n",
      "[\u001b[1;34mINFO\u001b[m] \n",
      "[\u001b[1;34mINFO\u001b[m] \u001b[1m--- \u001b[0;32mmaven-compiler-plugin:3.10.1:compile\u001b[m \u001b[1m(default)\u001b[m @ \u001b[36msedona-parent\u001b[0;1m ---\u001b[m\n",
      "[\u001b[1;34mINFO\u001b[m] No sources to compile\n",
      "[\u001b[1;34mINFO\u001b[m] \n",
      "[\u001b[1;34mINFO\u001b[m] \u001b[1m--- \u001b[0;32mscala-maven-plugin:3.2.1:testCompile\u001b[m \u001b[1m(scala-test-compile)\u001b[m @ \u001b[36msedona-parent\u001b[0;1m ---\u001b[m\n",
      "[\u001b[1;34mINFO\u001b[m] No sources to compile\n",
      "[\u001b[1;34mINFO\u001b[m] \n",
      "[\u001b[1;34mINFO\u001b[m] \u001b[1m--- \u001b[0;32mscalatest-maven-plugin:2.2.0:test\u001b[m \u001b[1m(test)\u001b[m @ \u001b[36msedona-parent\u001b[0;1m ---\u001b[m\n",
      "[\u001b[1;34mINFO\u001b[m] ScalaTest report directory: /home/jovyan/apache-sedona-1.3.1-incubating-src/target/surefire-reports\n",
      "[\u001b[1;34mINFO\u001b[m] Tests are skipped.\n",
      "[\u001b[1;34mINFO\u001b[m] \n",
      "[\u001b[1;34mINFO\u001b[m] \u001b[1m--- \u001b[0;32mresolved-pom-maven-plugin:1.0:resolve-pom\u001b[m \u001b[1m(resolve-my-pom)\u001b[m @ \u001b[36msedona-parent\u001b[0;1m ---\u001b[m\n",
      "[\u001b[1;34mINFO\u001b[m] Filtering pom at /home/jovyan/apache-sedona-1.3.1-incubating-src/pom.xml to /home/jovyan/apache-sedona-1.3.1-incubating-src/target/resolved-pom.xml\n",
      "[\u001b[1;34mINFO\u001b[m] Filtered pom to /home/jovyan/apache-sedona-1.3.1-incubating-src/target/resolved-pom.xml\n",
      "[\u001b[1;34mINFO\u001b[m] \n",
      "[\u001b[1;34mINFO\u001b[m] \u001b[1m--- \u001b[0;32mmaven-site-plugin:3.7.1:attach-descriptor\u001b[m \u001b[1m(attach-descriptor)\u001b[m @ \u001b[36msedona-parent\u001b[0;1m ---\u001b[m\n",
      "[\u001b[1;34mINFO\u001b[m] No site descriptor found: nothing to attach.\n",
      "[\u001b[1;34mINFO\u001b[m] \n",
      "[\u001b[1;34mINFO\u001b[m] \u001b[1m>>> \u001b[0;32mscala-maven-plugin:3.2.1:doc-jar\u001b[m \u001b[1m(attach-javadocs)\u001b[0;1m > \u001b[0;1mgenerate-sources\u001b[m @ \u001b[36msedona-parent\u001b[0;1m >>>\u001b[m\n",
      "[\u001b[1;34mINFO\u001b[m] \n",
      "[\u001b[1;34mINFO\u001b[m] \u001b[1m--- \u001b[0;32mmaven-enforcer-plugin:1.4.1:enforce\u001b[m \u001b[1m(enforce-maven-version)\u001b[m @ \u001b[36msedona-parent\u001b[0;1m ---\u001b[m\n",
      "[\u001b[1;34mINFO\u001b[m] \n",
      "[\u001b[1;34mINFO\u001b[m] \u001b[1m<<< \u001b[0;32mscala-maven-plugin:3.2.1:doc-jar\u001b[m \u001b[1m(attach-javadocs)\u001b[0;1m < \u001b[0;1mgenerate-sources\u001b[m @ \u001b[36msedona-parent\u001b[0;1m <<<\u001b[m\n",
      "[\u001b[1;34mINFO\u001b[m] \n",
      "[\u001b[1;34mINFO\u001b[m] \n",
      "[\u001b[1;34mINFO\u001b[m] \u001b[1m--- \u001b[0;32mscala-maven-plugin:3.2.1:doc-jar\u001b[m \u001b[1m(attach-javadocs)\u001b[m @ \u001b[36msedona-parent\u001b[0;1m ---\u001b[m\n",
      "[\u001b[1;34mINFO\u001b[m] No source files found\n",
      "[\u001b[1;34mINFO\u001b[m] \n",
      "[\u001b[1;34mINFO\u001b[m] \u001b[1m--- \u001b[0;32mmaven-shade-plugin:2.1:shade\u001b[m \u001b[1m(default)\u001b[m @ \u001b[36msedona-parent\u001b[0;1m ---\u001b[m\n",
      "[\u001b[1;34mINFO\u001b[m] No artifact matching filter edu.ucar:cdm-core\n",
      "[\u001b[1;34mINFO\u001b[m] Replacing original artifact with shaded artifact.\n",
      "[\u001b[1;34mINFO\u001b[m] \n",
      "[\u001b[1;34mINFO\u001b[m] \u001b[1m--- \u001b[0;32mmaven-javadoc-plugin:2.10.4:jar\u001b[m \u001b[1m(attach-javadocs)\u001b[m @ \u001b[36msedona-parent\u001b[0;1m ---\u001b[m\n",
      "[\u001b[1;34mINFO\u001b[m] Not executing Javadoc as the project is not a Java classpath-capable package\n",
      "[\u001b[1;34mINFO\u001b[m] \n",
      "[\u001b[1;34mINFO\u001b[m] \u001b[1m--- \u001b[0;32mchecksum-maven-plugin:1.9:artifacts\u001b[m \u001b[1m(default)\u001b[m @ \u001b[36msedona-parent\u001b[0;1m ---\u001b[m\n",
      "[\u001b[1;34mINFO\u001b[m] \n",
      "[\u001b[1;34mINFO\u001b[m] \u001b[1m--- \u001b[0;32mmaven-install-plugin:2.5.2:install\u001b[m \u001b[1m(default-install)\u001b[m @ \u001b[36msedona-parent\u001b[0;1m ---\u001b[m\n",
      "[\u001b[1;34mINFO\u001b[m] Installing /home/jovyan/apache-sedona-1.3.1-incubating-src/target/resolved-pom.xml to /home/jovyan/.m2/repository/org/apache/sedona/sedona-parent/1.3.1-incubating/sedona-parent-1.3.1-incubating.pom\n",
      "[\u001b[1;34mINFO\u001b[m] Installing /home/jovyan/apache-sedona-1.3.1-incubating-src/target/resolved-pom.xml to /home/jovyan/.m2/repository/org/apache/sedona/sedona-parent/1.3.1-incubating/sedona-parent-1.3.1-incubating.pom\n",
      "[\u001b[1;34mINFO\u001b[m] \n",
      "[\u001b[1;34mINFO\u001b[m] \u001b[1m------------------< \u001b[0;36morg.apache.sedona:sedona-common\u001b[0;1m >-------------------\u001b[m\n",
      "[\u001b[1;34mINFO\u001b[m] \u001b[1mBuilding org.apache.sedona:sedona-common 1.3.1-incubating          [2/7]\u001b[m\n",
      "[\u001b[1;34mINFO\u001b[m] \u001b[1m--------------------------------[ jar ]---------------------------------\u001b[m\n",
      "[\u001b[1;34mINFO\u001b[m] \n",
      "[\u001b[1;34mINFO\u001b[m] \u001b[1m--- \u001b[0;32mmaven-clean-plugin:3.1.0:clean\u001b[m \u001b[1m(default-clean)\u001b[m @ \u001b[36msedona-common\u001b[0;1m ---\u001b[m\n",
      "[\u001b[1;34mINFO\u001b[m] Deleting /home/jovyan/apache-sedona-1.3.1-incubating-src/common/target\n",
      "[\u001b[1;34mINFO\u001b[m] \n",
      "[\u001b[1;34mINFO\u001b[m] \u001b[1m--- \u001b[0;32mmaven-enforcer-plugin:1.4.1:enforce\u001b[m \u001b[1m(enforce-maven-version)\u001b[m @ \u001b[36msedona-common\u001b[0;1m ---\u001b[m\n",
      "[\u001b[1;34mINFO\u001b[m] \n",
      "[\u001b[1;34mINFO\u001b[m] \u001b[1m--- \u001b[0;32mmaven-remote-resources-plugin:1.7.0:process\u001b[m \u001b[1m(process-resource-bundles)\u001b[m @ \u001b[36msedona-common\u001b[0;1m ---\u001b[m\n",
      "[\u001b[1;34mINFO\u001b[m] Preparing remote bundle org.apache:apache-jar-resource-bundle:1.4\n",
      "[\u001b[1;34mINFO\u001b[m] Copying 3 resources from 1 bundle.\n",
      "[\u001b[1;34mINFO\u001b[m] \n",
      "[\u001b[1;34mINFO\u001b[m] \u001b[1m--- \u001b[0;32mmaven-resources-plugin:3.1.0:resources\u001b[m \u001b[1m(default-resources)\u001b[m @ \u001b[36msedona-common\u001b[0;1m ---\u001b[m\n",
      "[\u001b[1;34mINFO\u001b[m] Using 'UTF-8' encoding to copy filtered resources.\n",
      "[\u001b[1;34mINFO\u001b[m] skip non existing resourceDirectory /home/jovyan/apache-sedona-1.3.1-incubating-src/common/src/main/resources\n",
      "[\u001b[1;34mINFO\u001b[m] Copying 3 resources\n",
      "[\u001b[1;34mINFO\u001b[m] \n",
      "[\u001b[1;34mINFO\u001b[m] \u001b[1m--- \u001b[0;32mscala-maven-plugin:3.2.1:add-source\u001b[m \u001b[1m(scala-compile-first)\u001b[m @ \u001b[36msedona-common\u001b[0;1m ---\u001b[m\n",
      "[\u001b[1;34mINFO\u001b[m] Add Source directory: /home/jovyan/apache-sedona-1.3.1-incubating-src/common/src/main/scala\n",
      "[\u001b[1;34mINFO\u001b[m] Add Test Source directory: /home/jovyan/apache-sedona-1.3.1-incubating-src/common/src/test/scala\n",
      "[\u001b[1;34mINFO\u001b[m] \n",
      "[\u001b[1;34mINFO\u001b[m] \u001b[1m--- \u001b[0;32mscala-maven-plugin:3.2.1:compile\u001b[m \u001b[1m(scala-compile-first)\u001b[m @ \u001b[36msedona-common\u001b[0;1m ---\u001b[m\n",
      "[\u001b[1;34mINFO\u001b[m] /home/jovyan/apache-sedona-1.3.1-incubating-src/common/src/main/java:-1: info: compiling\n",
      "[\u001b[1;34mINFO\u001b[m] Compiling 7 source files to /home/jovyan/apache-sedona-1.3.1-incubating-src/common/target/classes at 1670841513818\n",
      "[\u001b[1;34mINFO\u001b[m] prepare-compile in 0 s\n",
      "[\u001b[1;34mINFO\u001b[m] compile in 6 s\n",
      "[\u001b[1;34mINFO\u001b[m] \n",
      "[\u001b[1;34mINFO\u001b[m] \u001b[1m--- \u001b[0;32mmaven-compiler-plugin:3.10.1:compile\u001b[m \u001b[1m(default-compile)\u001b[m @ \u001b[36msedona-common\u001b[0;1m ---\u001b[m\n",
      "[\u001b[1;34mINFO\u001b[m] Changes detected - recompiling the module!\n",
      "[\u001b[1;34mINFO\u001b[m] Compiling 7 source files to /home/jovyan/apache-sedona-1.3.1-incubating-src/common/target/classes\n",
      "[\u001b[1;34mINFO\u001b[m] /home/jovyan/apache-sedona-1.3.1-incubating-src/common/src/main/java/org/apache/sedona/common/utils/GeomUtils.java: /home/jovyan/apache-sedona-1.3.1-incubating-src/common/src/main/java/org/apache/sedona/common/utils/GeomUtils.java uses unchecked or unsafe operations.\n",
      "[\u001b[1;34mINFO\u001b[m] /home/jovyan/apache-sedona-1.3.1-incubating-src/common/src/main/java/org/apache/sedona/common/utils/GeomUtils.java: Recompile with -Xlint:unchecked for details.\n",
      "[\u001b[1;34mINFO\u001b[m] \n",
      "[\u001b[1;34mINFO\u001b[m] \u001b[1m--- \u001b[0;32mmaven-compiler-plugin:3.10.1:compile\u001b[m \u001b[1m(default)\u001b[m @ \u001b[36msedona-common\u001b[0;1m ---\u001b[m\n",
      "[\u001b[1;34mINFO\u001b[m] Changes detected - recompiling the module!\n",
      "[\u001b[1;34mINFO\u001b[m] Compiling 7 source files to /home/jovyan/apache-sedona-1.3.1-incubating-src/common/target/classes\n",
      "[\u001b[1;34mINFO\u001b[m] /home/jovyan/apache-sedona-1.3.1-incubating-src/common/src/main/java/org/apache/sedona/common/utils/GeomUtils.java: /home/jovyan/apache-sedona-1.3.1-incubating-src/common/src/main/java/org/apache/sedona/common/utils/GeomUtils.java uses unchecked or unsafe operations.\n",
      "[\u001b[1;34mINFO\u001b[m] /home/jovyan/apache-sedona-1.3.1-incubating-src/common/src/main/java/org/apache/sedona/common/utils/GeomUtils.java: Recompile with -Xlint:unchecked for details.\n",
      "[\u001b[1;34mINFO\u001b[m] \n",
      "[\u001b[1;34mINFO\u001b[m] \u001b[1m--- \u001b[0;32mmaven-resources-plugin:3.1.0:testResources\u001b[m \u001b[1m(default-testResources)\u001b[m @ \u001b[36msedona-common\u001b[0;1m ---\u001b[m\n",
      "[\u001b[1;34mINFO\u001b[m] Using 'UTF-8' encoding to copy filtered resources.\n",
      "[\u001b[1;34mINFO\u001b[m] skip non existing resourceDirectory /home/jovyan/apache-sedona-1.3.1-incubating-src/common/src/test/resources\n",
      "[\u001b[1;34mINFO\u001b[m] Copying 3 resources\n",
      "[\u001b[1;34mINFO\u001b[m] \n",
      "[\u001b[1;34mINFO\u001b[m] \u001b[1m--- \u001b[0;32mscala-maven-plugin:3.2.1:testCompile\u001b[m \u001b[1m(scala-test-compile)\u001b[m @ \u001b[36msedona-common\u001b[0;1m ---\u001b[m\n",
      "[\u001b[1;34mINFO\u001b[m] /home/jovyan/apache-sedona-1.3.1-incubating-src/common/src/test/java:-1: info: compiling\n",
      "[\u001b[1;34mINFO\u001b[m] Compiling 1 source files to /home/jovyan/apache-sedona-1.3.1-incubating-src/common/target/test-classes at 1670841524358\n"
     ]
    }
   ],
   "source": [
    "os.system(\"(cd \" + PATH + \"apache-sedona-\" + SEDONA_CURRENT_VERSION + \"-src;mvn clean install -DskipTests)\")"
   ]
  },
  {
   "cell_type": "markdown",
   "id": "03d145f3-3620-470b-8f6c-5d4620fa3237",
   "metadata": {},
   "source": [
    "\n"
   ]
  },
  {
   "cell_type": "code",
   "execution_count": null,
   "id": "822954aa-daea-4494-a8d6-b7d4436bbd6a",
   "metadata": {},
   "outputs": [],
   "source": []
  }
 ],
 "metadata": {
  "kernelspec": {
   "display_name": "Python 3 (ipykernel)",
   "language": "python",
   "name": "python3"
  },
  "language_info": {
   "codemirror_mode": {
    "name": "ipython",
    "version": 3
   },
   "file_extension": ".py",
   "mimetype": "text/x-python",
   "name": "python",
   "nbconvert_exporter": "python",
   "pygments_lexer": "ipython3",
   "version": "3.7.12"
  }
 },
 "nbformat": 4,
 "nbformat_minor": 5
}
